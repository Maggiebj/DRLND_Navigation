{
 "cells": [
  {
   "cell_type": "markdown",
   "metadata": {},
   "source": [
    "# Navigation\n",
    "\n",
    "---\n",
    "\n",
    "In this notebook, you will learn how to use the Unity ML-Agents environment for the first project of the [Deep Reinforcement Learning Nanodegree](https://www.udacity.com/course/deep-reinforcement-learning-nanodegree--nd893).\n",
    "\n",
    "### 1. Start the Environment\n",
    "\n",
    "We begin by importing some necessary packages.  If the code cell below returns an error, please revisit the project instructions to double-check that you have installed [Unity ML-Agents](https://github.com/Unity-Technologies/ml-agents/blob/master/docs/Installation.md) and [NumPy](http://www.numpy.org/)."
   ]
  },
  {
   "cell_type": "code",
   "execution_count": 1,
   "metadata": {
    "execution": {
     "iopub.execute_input": "2023-08-23T10:06:32.706062Z",
     "iopub.status.busy": "2023-08-23T10:06:32.705859Z",
     "iopub.status.idle": "2023-08-23T10:06:32.990098Z",
     "shell.execute_reply": "2023-08-23T10:06:32.989220Z",
     "shell.execute_reply.started": "2023-08-23T10:06:32.706030Z"
    },
    "tags": []
   },
   "outputs": [],
   "source": [
    "from unityagents import UnityEnvironment\n",
    "import numpy as np"
   ]
  },
  {
   "cell_type": "markdown",
   "metadata": {},
   "source": [
    "Next, we will start the environment!  **_Before running the code cell below_**, change the `file_name` parameter to match the location of the Unity environment that you downloaded.\n",
    "\n",
    "- **Mac**: `\"path/to/Banana.app\"`\n",
    "- **Windows** (x86): `\"path/to/Banana_Windows_x86/Banana.exe\"`\n",
    "- **Windows** (x86_64): `\"path/to/Banana_Windows_x86_64/Banana.exe\"`\n",
    "- **Linux** (x86): `\"path/to/Banana_Linux/Banana.x86\"`\n",
    "- **Linux** (x86_64): `\"path/to/Banana_Linux/Banana.x86_64\"`\n",
    "- **Linux** (x86, headless): `\"path/to/Banana_Linux_NoVis/Banana.x86\"`\n",
    "- **Linux** (x86_64, headless): `\"path/to/Banana_Linux_NoVis/Banana.x86_64\"`\n",
    "\n",
    "For instance, if you are using a Mac, then you downloaded `Banana.app`.  If this file is in the same folder as the notebook, then the line below should appear as follows:\n",
    "```\n",
    "env = UnityEnvironment(file_name=\"Banana.app\")\n",
    "```"
   ]
  },
  {
   "cell_type": "code",
   "execution_count": 2,
   "metadata": {
    "ExecutionIndicator": {
     "show": true
    },
    "execution": {
     "iopub.execute_input": "2023-08-23T10:06:32.992083Z",
     "iopub.status.busy": "2023-08-23T10:06:32.991861Z",
     "iopub.status.idle": "2023-08-23T10:06:33.403366Z",
     "shell.execute_reply": "2023-08-23T10:06:33.402633Z",
     "shell.execute_reply.started": "2023-08-23T10:06:32.992052Z"
    },
    "tags": []
   },
   "outputs": [
    {
     "name": "stderr",
     "output_type": "stream",
     "text": [
      "INFO:unityagents:\n",
      "'Academy' started successfully!\n",
      "Unity Academy name: Academy\n",
      "        Number of Brains: 1\n",
      "        Number of External Brains : 1\n",
      "        Lesson number : 0\n",
      "        Reset Parameters :\n",
      "\t\t\n",
      "Unity brain name: BananaBrain\n",
      "        Number of Visual Observations (per agent): 0\n",
      "        Vector Observation space type: continuous\n",
      "        Vector Observation space size (per agent): 37\n",
      "        Number of stacked Vector Observation: 1\n",
      "        Vector Action space type: discrete\n",
      "        Vector Action space size (per agent): 4\n",
      "        Vector Action descriptions: , , , \n"
     ]
    }
   ],
   "source": [
    "env = UnityEnvironment(file_name=\"Banana_Linux_Novis/Banana_Linux_NoVis/Banana.x86_64\")"
   ]
  },
  {
   "cell_type": "markdown",
   "metadata": {},
   "source": [
    "Environments contain **_brains_** which are responsible for deciding the actions of their associated agents. Here we check for the first brain available, and set it as the default brain we will be controlling from Python."
   ]
  },
  {
   "cell_type": "code",
   "execution_count": 3,
   "metadata": {
    "execution": {
     "iopub.execute_input": "2023-08-23T10:06:33.405229Z",
     "iopub.status.busy": "2023-08-23T10:06:33.405002Z",
     "iopub.status.idle": "2023-08-23T10:06:33.408612Z",
     "shell.execute_reply": "2023-08-23T10:06:33.407956Z",
     "shell.execute_reply.started": "2023-08-23T10:06:33.405195Z"
    },
    "tags": []
   },
   "outputs": [],
   "source": [
    "# get the default brain\n",
    "brain_name = env.brain_names[0]\n",
    "brain = env.brains[brain_name]"
   ]
  },
  {
   "cell_type": "markdown",
   "metadata": {},
   "source": [
    "### 2. Examine the State and Action Spaces\n",
    "\n",
    "The simulation contains a single agent that navigates a large environment.  At each time step, it has four actions at its disposal:\n",
    "- `0` - walk forward \n",
    "- `1` - walk backward\n",
    "- `2` - turn left\n",
    "- `3` - turn right\n",
    "\n",
    "The state space has `37` dimensions and contains the agent's velocity, along with ray-based perception of objects around agent's forward direction.  A reward of `+1` is provided for collecting a yellow banana, and a reward of `-1` is provided for collecting a blue banana. \n",
    "\n",
    "Run the code cell below to print some information about the environment."
   ]
  },
  {
   "cell_type": "code",
   "execution_count": 4,
   "metadata": {
    "execution": {
     "iopub.execute_input": "2023-08-23T10:06:33.409957Z",
     "iopub.status.busy": "2023-08-23T10:06:33.409765Z",
     "iopub.status.idle": "2023-08-23T10:06:33.488483Z",
     "shell.execute_reply": "2023-08-23T10:06:33.487547Z",
     "shell.execute_reply.started": "2023-08-23T10:06:33.409930Z"
    },
    "tags": []
   },
   "outputs": [
    {
     "name": "stdout",
     "output_type": "stream",
     "text": [
      "Number of agents: 1\n",
      "Number of actions: 4\n",
      "States look like: [1.         0.         0.         0.         0.84408134 0.\n",
      " 0.         1.         0.         0.0748472  0.         1.\n",
      " 0.         0.         0.25755    1.         0.         0.\n",
      " 0.         0.74177343 0.         1.         0.         0.\n",
      " 0.25854847 0.         0.         1.         0.         0.09355672\n",
      " 0.         1.         0.         0.         0.31969345 0.\n",
      " 0.        ]\n",
      "States have length: 37\n"
     ]
    }
   ],
   "source": [
    "# reset the environment\n",
    "env_info = env.reset(train_mode=True)[brain_name]\n",
    "\n",
    "# number of agents in the environment\n",
    "print('Number of agents:', len(env_info.agents))\n",
    "\n",
    "# number of actions\n",
    "action_size = brain.vector_action_space_size\n",
    "print('Number of actions:', action_size)\n",
    "\n",
    "# examine the state space \n",
    "state = env_info.vector_observations[0]\n",
    "print('States look like:', state)\n",
    "state_size = len(state)\n",
    "print('States have length:', state_size)"
   ]
  },
  {
   "cell_type": "markdown",
   "metadata": {},
   "source": [
    "### 3. Take Random Actions in the Environment\n",
    "\n",
    "In the next code cell, you will learn how to use the Python API to control the agent and receive feedback from the environment.\n",
    "\n",
    "Once this cell is executed, you will watch the agent's performance, if it selects an action (uniformly) at random with each time step.  A window should pop up that allows you to observe the agent, as it moves through the environment.  \n",
    "\n",
    "Of course, as part of the project, you'll have to change the code so that the agent is able to use its experience to gradually choose better actions when interacting with the environment!"
   ]
  },
  {
   "cell_type": "code",
   "execution_count": 5,
   "metadata": {
    "ExecutionIndicator": {
     "show": false
    },
    "execution": {
     "iopub.execute_input": "2023-08-23T10:06:33.490496Z",
     "iopub.status.busy": "2023-08-23T10:06:33.490168Z",
     "iopub.status.idle": "2023-08-23T10:06:33.501569Z",
     "shell.execute_reply": "2023-08-23T10:06:33.500920Z",
     "shell.execute_reply.started": "2023-08-23T10:06:33.490444Z"
    },
    "tags": []
   },
   "outputs": [
    {
     "data": {
      "text/plain": [
       "'\\nenv_info = env.reset(train_mode=False)[brain_name] # reset the environment\\nstate = env_info.vector_observations[0]            # get the current state\\nscore = 0                                          # initialize the score\\nwhile True:\\n    action = np.random.randint(action_size)        # select an action\\n    env_info = env.step(action)[brain_name]        # send the action to the environment\\n    next_state = env_info.vector_observations[0]   # get the next state\\n    reward = env_info.rewards[0]                   # get the reward\\n    done = env_info.local_done[0]                  # see if episode has finished\\n    score += reward                                # update the score\\n    state = next_state                             # roll over the state to next time step\\n    if done:                                       # exit loop if episode finished\\n        break\\n    \\nprint(\"Score: {}\".format(score))\\n'"
      ]
     },
     "execution_count": 5,
     "metadata": {},
     "output_type": "execute_result"
    }
   ],
   "source": [
    "'''\n",
    "env_info = env.reset(train_mode=False)[brain_name] # reset the environment\n",
    "state = env_info.vector_observations[0]            # get the current state\n",
    "score = 0                                          # initialize the score\n",
    "while True:\n",
    "    action = np.random.randint(action_size)        # select an action\n",
    "    env_info = env.step(action)[brain_name]        # send the action to the environment\n",
    "    next_state = env_info.vector_observations[0]   # get the next state\n",
    "    reward = env_info.rewards[0]                   # get the reward\n",
    "    done = env_info.local_done[0]                  # see if episode has finished\n",
    "    score += reward                                # update the score\n",
    "    state = next_state                             # roll over the state to next time step\n",
    "    if done:                                       # exit loop if episode finished\n",
    "        break\n",
    "    \n",
    "print(\"Score: {}\".format(score))\n",
    "'''"
   ]
  },
  {
   "cell_type": "markdown",
   "metadata": {},
   "source": [
    "When finished, you can close the environment."
   ]
  },
  {
   "cell_type": "code",
   "execution_count": 6,
   "metadata": {
    "execution": {
     "iopub.execute_input": "2023-08-23T10:06:33.502835Z",
     "iopub.status.busy": "2023-08-23T10:06:33.502618Z",
     "iopub.status.idle": "2023-08-23T10:06:33.505971Z",
     "shell.execute_reply": "2023-08-23T10:06:33.505170Z",
     "shell.execute_reply.started": "2023-08-23T10:06:33.502807Z"
    }
   },
   "outputs": [],
   "source": [
    "#env.close()"
   ]
  },
  {
   "cell_type": "markdown",
   "metadata": {},
   "source": [
    "### 4. It's Your Turn!\n",
    "\n",
    "Now it's your turn to train your own agent to solve the environment!  When training the environment, set `train_mode=True`, so that the line for resetting the environment looks like the following:\n",
    "```python\n",
    "env_info = env.reset(train_mode=True)[brain_name]\n",
    "```"
   ]
  },
  {
   "cell_type": "code",
   "execution_count": 7,
   "metadata": {
    "ExecutionIndicator": {
     "show": true
    },
    "execution": {
     "iopub.execute_input": "2023-08-23T10:06:33.507089Z",
     "iopub.status.busy": "2023-08-23T10:06:33.506892Z",
     "iopub.status.idle": "2023-08-23T10:06:35.521601Z",
     "shell.execute_reply": "2023-08-23T10:06:35.520851Z",
     "shell.execute_reply.started": "2023-08-23T10:06:33.507061Z"
    },
    "tags": []
   },
   "outputs": [],
   "source": [
    "from p1_dqn_agent import Agent\n",
    "from collections import deque\n",
    "import time\n",
    "import torch\n",
    "env_info = env.reset(train_mode=True)[brain_name]\n",
    "agent = Agent(state_size, action_size, seed=10)"
   ]
  },
  {
   "cell_type": "code",
   "execution_count": 8,
   "metadata": {
    "ExecutionIndicator": {
     "show": true
    },
    "execution": {
     "iopub.execute_input": "2023-08-23T10:06:35.524010Z",
     "iopub.status.busy": "2023-08-23T10:06:35.523792Z",
     "iopub.status.idle": "2023-08-23T10:21:00.810129Z",
     "shell.execute_reply": "2023-08-23T10:21:00.809319Z",
     "shell.execute_reply.started": "2023-08-23T10:06:35.523980Z"
    },
    "scrolled": true,
    "tags": []
   },
   "outputs": [
    {
     "name": "stdout",
     "output_type": "stream",
     "text": [
      "Episode 20\tAverage most 100 Score: -0.20\n",
      "Episode 40\tAverage most 100 Score: -0.17\n",
      "Episode 60\tAverage most 100 Score: -0.13\n",
      "Episode 80\tAverage most 100 Score: -0.06\n",
      "Episode 100\tAverage most 100 Score: -0.05\n",
      "Episode 120\tAverage most 100 Score: 0.16\n",
      "Episode 140\tAverage most 100 Score: 0.22\n",
      "Episode 160\tAverage most 100 Score: 0.46\n",
      "Episode 180\tAverage most 100 Score: 0.79\n",
      "Episode 200\tAverage most 100 Score: 1.15\n",
      "Episode 220\tAverage most 100 Score: 1.57\n",
      "Episode 240\tAverage most 100 Score: 2.23\n",
      "Episode 260\tAverage most 100 Score: 2.79\n",
      "Episode 280\tAverage most 100 Score: 3.52\n",
      "Episode 300\tAverage most 100 Score: 4.14\n",
      "Episode 320\tAverage most 100 Score: 4.82\n",
      "Episode 340\tAverage most 100 Score: 5.62\n",
      "Episode 360\tAverage most 100 Score: 6.29\n",
      "Episode 380\tAverage most 100 Score: 6.60\n",
      "Episode 400\tAverage most 100 Score: 7.46\n",
      "Episode 420\tAverage most 100 Score: 7.87\n",
      "Episode 440\tAverage most 100 Score: 7.94\n",
      "Episode 460\tAverage most 100 Score: 8.28\n",
      "Episode 480\tAverage most 100 Score: 8.67\n",
      "Episode 500\tAverage most 100 Score: 8.93\n",
      "Episode 520\tAverage most 100 Score: 9.41\n",
      "Episode 540\tAverage most 100 Score: 9.97\n",
      "Episode 560\tAverage most 100 Score: 10.52\n",
      "Episode 580\tAverage most 100 Score: 11.19\n",
      "Episode 600\tAverage most 100 Score: 11.81\n",
      "Episode 620\tAverage most 100 Score: 12.26\n",
      "Episode 639\t Score: 20.00\n",
      "Environment solved in 639 episodes!\tAverage Score: 13.00\n",
      "duration time :14.42 miniutes \n"
     ]
    }
   ],
   "source": [
    "def dqn(n_episodes=2000, max_t=1000, eps_start=1.0, eps_end=0.01, eps_decay=0.995):\n",
    "    \"\"\"Deep Q-Learning.\n",
    "    \n",
    "    Params\n",
    "    ======\n",
    "        n_episodes (int): maximum number of training episodes\n",
    "        max_t (int): maximum number of timesteps per episode\n",
    "        eps_start (float): starting value of epsilon, for epsilon-greedy action selection\n",
    "        eps_end (float): minimum value of epsilon\n",
    "        eps_decay (float): multiplicative factor (per episode) for decreasing epsilon\n",
    "    \"\"\"\n",
    "    scores = []                        # list containing scores from each episode\n",
    "    scores_window = deque(maxlen=100)  # last 100 scores\n",
    "    eps = eps_start                    # initialize epsilon\n",
    "    \n",
    "    for i_episode in range(1, n_episodes+1):\n",
    "        env_info = env.reset(train_mode=True)[brain_name]\n",
    "        state =  env_info.vector_observations[0]\n",
    "        score = 0\n",
    "        for t in range(max_t):\n",
    "            action = agent.act(state, eps)\n",
    "            env_info = env.step(action)[brain_name]        # send the action to the environment\n",
    "            next_state = env_info.vector_observations[0]   # get the next state\n",
    "            reward = env_info.rewards[0]                   # get the reward\n",
    "            done = env_info.local_done[0]     \n",
    "            agent.step(state, action, reward, next_state, done)\n",
    "            score += reward                                # update the score\n",
    "            state = next_state \n",
    "            \n",
    "            \n",
    "            if done:                     # see if episode has finished\n",
    "                break \n",
    "        scores_window.append(score)       # save most recent 100 score\n",
    "        scores.append(score)              # save score\n",
    "        eps = max(eps_end, eps_decay*eps) # decrease epsilon\n",
    "        print('\\rEpisode {}\\t Score: {:.2f}'.format(i_episode, score), end=\"\")\n",
    "        if i_episode % 20 == 0:\n",
    "            print('\\rEpisode {}\\tAverage most 100 Score: {:.2f}'.format(i_episode, np.mean(scores_window)))\n",
    "        if np.mean(scores_window)>=13.0:\n",
    "            print('\\nEnvironment solved in {:d} episodes!\\tAverage Score: {:.2f}'.format(i_episode, np.mean(scores_window)))\n",
    "            torch.save(agent.qnetwork_local.state_dict(), 'solve_dpn_trained_model.pth')\n",
    "            break\n",
    "    return scores, scores_window\n",
    "\n",
    "start_time = time.time()\n",
    "scores,scores_window = dqn()\n",
    "print (\"duration time :{:.2f} miniutes \".format((time.time()-start_time)/60))\n",
    "\n"
   ]
  },
  {
   "cell_type": "code",
   "execution_count": 21,
   "metadata": {
    "ExecutionIndicator": {
     "show": true
    },
    "execution": {
     "iopub.execute_input": "2023-08-23T10:32:05.384403Z",
     "iopub.status.busy": "2023-08-23T10:32:05.384103Z",
     "iopub.status.idle": "2023-08-23T10:32:05.510388Z",
     "shell.execute_reply": "2023-08-23T10:32:05.509706Z",
     "shell.execute_reply.started": "2023-08-23T10:32:05.384365Z"
    },
    "tags": []
   },
   "outputs": [
    {
     "data": {
      "image/png": "[encoded data removed]",
      "text/plain": [
       "<Figure size 432x288 with 1 Axes>"
      ]
     },
     "metadata": {
      "needs_background": "light"
     },
     "output_type": "display_data"
    }
   ],
   "source": [
    "# plot the scores\n",
    "import matplotlib.pyplot as plt\n",
    "fig = plt.figure()\n",
    "ax = fig.add_subplot(111)\n",
    "plt.plot(np.arange(len(scores)), scores)\n",
    "\n",
    "plt.ylabel('Score')\n",
    "plt.xlabel('Episode #')\n",
    "plt.show()"
   ]
  },
  {
   "cell_type": "code",
   "execution_count": null,
   "metadata": {},
   "outputs": [],
   "source": []
  }
 ],
 "metadata": {
  "kernelspec": {
   "display_name": "Python 3",
   "language": "python",
   "name": "python3"
  },
  "language_info": {
   "codemirror_mode": {
    "name": "ipython",
    "version": 3
   },
   "file_extension": ".py",
   "mimetype": "text/x-python",
   "name": "python",
   "nbconvert_exporter": "python",
   "pygments_lexer": "ipython3",
   "version": "3.6.12"
  }
 },
 "nbformat": 4,
 "nbformat_minor": 4
}
